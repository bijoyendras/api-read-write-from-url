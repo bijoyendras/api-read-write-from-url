{
  "nbformat": 4,
  "nbformat_minor": 0,
  "metadata": {
    "colab": {
      "provenance": []
    },
    "kernelspec": {
      "name": "python3",
      "display_name": "Python 3"
    },
    "language_info": {
      "name": "python"
    }
  },
  "cells": [
    {
      "cell_type": "code",
      "execution_count": 3,
      "metadata": {
        "id": "m9AyVnl3nFZW"
      },
      "outputs": [],
      "source": [
        "import requests\n",
        "\n",
        "#File URL\n",
        "file_url = \"https://drive.google.com/file/d/1g-7HcuFPtsCZ2iWRYqs2bBmEhtDvbJtn/view?usp=sharing\"\n",
        "  \n",
        "a=b=c= requests.get(file_url, stream = True)\n",
        "  \n",
        "with open(\"python.csv\",\"wb\") as csv: # Use csv for csv, pdf for pdf, excel for excel\n",
        "    for chunk in a.iter_content(chunk_size=1024):\n",
        "  \n",
        "         # writing one chunk at a time to csv file\n",
        "         if chunk:\n",
        "             csv.write(chunk)"
      ]
    }
  ]
}